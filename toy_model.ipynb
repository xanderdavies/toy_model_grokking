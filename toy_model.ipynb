{
  "cells": [
    {
      "cell_type": "markdown",
      "metadata": {
        "id": "view-in-github",
        "colab_type": "text"
      },
      "source": [
        "<a href=\"https://colab.research.google.com/github/xanderdavies/toy_model_grokking/blob/main/toy_model.ipynb\" target=\"_parent\"><img src=\"https://colab.research.google.com/assets/colab-badge.svg\" alt=\"Open In Colab\"/></a>"
      ]
    },
    {
      "cell_type": "markdown",
      "metadata": {
        "id": "ClYP-iF9oK1K"
      },
      "source": [
        "# A Simple Model for Grokking and Double Descent\n",
        "\n",
        "Xander Davies, Lauro Langosco, and David Krueger"
      ]
    },
    {
      "cell_type": "code",
      "source": [
        "import matplotlib.pyplot as plt\n",
        "import numpy as np \n",
        "%matplotlib inline"
      ],
      "metadata": {
        "id": "zUbhfAkwWqm1"
      },
      "execution_count": 1,
      "outputs": []
    },
    {
      "cell_type": "markdown",
      "source": [
        "We model the learning of *patterns*, or particular input-output function learned during the training process. Pattern $i$ has predictiveness $\\text{pred}_i(t)$ at timestep $t$ (i.e., portion of training set they know), parameterized by a maximum predictiveness $\\gamma_i$, inflection point $b_i$, and learning speed $\\alpha_i$:\n",
        "\\begin{equation}\n",
        "\\text{pred}_i(t) = \\frac{\\gamma_i}{1 + e^{-\\alpha_i(x - b_i)}}\n",
        "\\end{equation}\n",
        "\n",
        "Features then generalize according to:\n",
        "\\begin{equation}\n",
        "\\text{gen}_i(t) = g_i \\cdot \\text{pred}_i(t)\n",
        "\\end{equation}"
      ],
      "metadata": {
        "id": "9EDX-TIEfQp8"
      }
    },
    {
      "cell_type": "markdown",
      "source": [
        "We model double descent & grokking learning dynamics through three patterns (or groups of patterns with equivalent properties):\n",
        "1. *Fast-to-learn, well-generalizing patterns (heuristics).* In double descent, we model these patterns as being able to explain 70% of the data ($\\gamma_1 = .7$) and generalizing perfectly ($g_1=1$). In grokking, we say there aren't any such heuristics ($\\gamma_1=0$). \n",
        "2. *Medium-to-learn, poorly-generalizing patterns (overfitting).* This category of pattern includes memorization, so has $\\gamma_2 = 1$ and $g_2=0$ in both double descent and grokking.\n",
        "3. *Slow-to-learn, well-generalizing patterns, which are __favored__.* In both cases, we say $g_3=1$, but in double descent we say these patterns can only explain 20% of the data ($\\gamma_1 = .2$) and in grokking we say it can explain all of the data ($\\gamma_1 = 1$). These patterns (in both cases) have the special property of being *preferred*, which means they are used in any case where they are predictive (as opposed to this being decided randomely in cases where multiple patterns overlap)."
      ],
      "metadata": {
        "id": "1YMKZSjkx-jP"
      }
    },
    {
      "cell_type": "markdown",
      "source": [
        "We define accuracy $\\text{acc}(t)$ at timestep $t$ per:\n",
        "\n",
        "\\begin{align}\n",
        "\\text{acc}(t) &= \\text{pred}_1(t) \\cup \\text{pred}_2(t) \\cup \\text{pred}_3(t) \\\\\n",
        "&= \\text{pred}_1(t) + \\text{pred}_2(t) + \\text{pred}_3(t) - \\left(\\text{pred}_1(t) \\text{pred}_2(t) + \\text{pred}_1(t) \\text{pred}_3(t) + \\text{pred}_2(t) \\text{pred}_3(t)\\right) + \\text{pred}_1(t) \\text{pred}_2(t) \\text{pred}_3(t) \n",
        "\\end{align}\n",
        "\n",
        "We define pattern usage $u_i(t)$ as the proportion of examples seen by $p_i$ at timestep $t$, which is upperbounded by $\\text{pred}_i(t)$:\n",
        "\\begin{align}\n",
        "u_1(t) &= \\text{pred}_1(t) - \\text{pred}_1(t) \\text{pred}_3(t) + \\frac{\\text{pred}_1(t) \\text{pred}_2(t) \\text{pred}_3(t) - \\text{pred}_1(t) \\text{pred}_2(t)}{2} \\\\\n",
        "u_2(t) &= \\text{pred}_2(t) - \\text{pred}_2(t) \\text{pred}_3(t) + \\frac{\\text{pred}_1(t) \\text{pred}_2(t) \\text{pred}_3(t) - \\text{pred}_1(t) \\text{pred}_2(t)}{2} \\\\\n",
        "u_3(t) &= \\text{pred}_3(t)\n",
        "\\end{align}\n",
        "\n",
        "*Note that $u_1(t) + u_2(t) + u_3(t) \\leq 1$, $\\forall t \\geq 0, \\text{pred}_i \\leq 1$.*\n",
        "\n",
        "We then say our model generalizes according to each pattern's generality $g_i$ applied to each usage $u_i(t)$:\n",
        "\n",
        "\\begin{align}\n",
        "\\text{gen}(t) = g_1 u_1(t) + g_2 u_2(t) + g_3 u_3(t)\n",
        "\\end{align}"
      ],
      "metadata": {
        "id": "rQEpa_bf04DE"
      }
    },
    {
      "cell_type": "code",
      "source": [
        "def pred_i(p, t):\n",
        "  return p[\"gamma\"] / (1 + np.exp(-p[\"alpha\"]*(t - p[\"b\"])))\n",
        "\n",
        "def acc(p_1, p_2, p_3, t):\n",
        "  preds = [pred_i(p_1, t), pred_i(p_2, t), pred_i(p_3, t)]\n",
        "  return preds[0] + preds[1] + preds[2] - preds[0]*preds[1] - preds[0] * preds[2] - preds[1] * preds[2] + preds[0] * preds[1] * preds[2]\n",
        "\n",
        "def gen(p_1, p_2, p_3, t):\n",
        "  preds = [pred_i(p_1, t), pred_i(p_2, t), pred_i(p_3, t)]\n",
        "  u_1 = preds[0] - preds[2]*preds[0] - preds[0]*preds[1]/2 + preds[0]*preds[1]*preds[2]/2\n",
        "  u_2 = preds[1] - preds[2]*preds[1] - preds[0]*preds[1]/2 + preds[0]*preds[1]*preds[2]/2\n",
        "  u_3 = preds[2]\n",
        "  return u_1*p_1[\"g\"] + u_2*p_2[\"g\"] + u_3*p_3[\"g\"]"
      ],
      "metadata": {
        "id": "uTmH_MuC40oO"
      },
      "execution_count": 4,
      "outputs": []
    },
    {
      "cell_type": "code",
      "source": [
        "#@title Double Descent <> Grokking\n",
        "\n",
        "#@markdown *To transition between double descent and grokking, lower the predictiveness of heuristics, and increase the predictiviness of the slow well-generalizing patterns.*\n",
        "\n",
        "import ipywidgets as widgets\n",
        "grokking = False\n",
        "STEPS = 300\n",
        "\n",
        "p_1 = {\n",
        "    \"gamma\": 0. if grokking else 0.7,\n",
        "    \"alpha\": .15,\n",
        "    \"b\": 30,\n",
        "    \"g\": 1,\n",
        "}\n",
        "\n",
        "p_2 = {\n",
        "    \"gamma\": 1,\n",
        "    \"alpha\": .15,\n",
        "    \"b\": 50,\n",
        "    \"g\": 0,\n",
        "}\n",
        "\n",
        "p_3 = {\n",
        "    \"gamma\": 1. if grokking else 0.2,\n",
        "    \"alpha\": .05,\n",
        "    \"b\": 200,\n",
        "    \"g\": 1,\n",
        "}\n",
        "\n",
        "@widgets.interact(heuristics=(0., 1.), slow_good=(0., 1.))\n",
        "def plot_grok_dd(heuristics=p_1[\"gamma\"], slow_good=p_3[\"gamma\"]):\n",
        "  p_1[\"gamma\"] = heuristics\n",
        "  p_3[\"gamma\"] = slow_good\n",
        "\n",
        "  x = np.arange(0, STEPS)\n",
        "  fig, axs = plt.subplots(1, 2, figsize=(20,8))\n",
        "  fig.canvas.header_visible = False\n",
        "\n",
        "  # feature learning\n",
        "  heuristics, = axs[0].plot(x, pred_i(p_1, x), label=\"heuristics\")\n",
        "  memorization, = axs[0].plot(x, pred_i(p_2, x), label=\"overfitting\")\n",
        "  slow, = axs[0].plot(x, pred_i(p_3, x), label=\"slow \\nwell-generalizing\")\n",
        "  axs[0].set_xlabel(\"epochs\")\n",
        "  axs[0].set_ylabel(\"Predictiveness\")\n",
        "  axs[0].legend()\n",
        "  axs[0].set_title(\"Pattern Learning\")\n",
        "\n",
        "  # accuracy\n",
        "  train, = axs[1].plot(x, acc(p_1, p_2, p_3, x), label=\"train\", color=\"gray\")\n",
        "  test, = axs[1].plot(x, gen(p_1, p_2, p_3, x), label=\"test\", color=\"red\")\n",
        "  axs[1].set_xlabel(\"epochs\")\n",
        "  axs[1].set_ylabel(\"Accuracy\")\n",
        "  axs[1].set_title(\"Accuracy\")\n",
        "  axs[1].legend()"
      ],
      "metadata": {
        "colab": {
          "base_uri": "https://localhost:8080/",
          "height": 577,
          "referenced_widgets": [
            "557f7000208b47d2a38ff03fefea063f",
            "4e003c6a90e348e9b65e724d54aa5792",
            "013683b10b024465ae24281223a1bd21",
            "4baa73f156f741f1bd7bf1dbecb354b2",
            "2e4982232b4c4617b0ebf58cff63dabf",
            "91feaef8c76d42bf8a0c332a251e15c6",
            "819abcd931034b3984b561896db856e0",
            "73aecb5f13764e9eb8a1aeff92702bcc",
            "b843e03242f44fdea64132b522135c23",
            "28b3ff546a04431893706969226d86ab"
          ]
        },
        "cellView": "form",
        "id": "vtrKkFby6kui",
        "outputId": "69b91c94-28ab-4da4-cbc4-b7ccab796e0d"
      },
      "execution_count": 5,
      "outputs": [
        {
          "output_type": "display_data",
          "data": {
            "text/plain": [
              "interactive(children=(FloatSlider(value=0.7, description='heuristics', max=1.0), FloatSlider(value=0.2, descri…"
            ],
            "application/vnd.jupyter.widget-view+json": {
              "version_major": 2,
              "version_minor": 0,
              "model_id": "557f7000208b47d2a38ff03fefea063f"
            }
          },
          "metadata": {}
        }
      ]
    },
    {
      "cell_type": "code",
      "source": [
        "#@title Figure in paper\n",
        "\n",
        "STEPS = 300\n",
        "\n",
        "p_1 = {\n",
        "    \"gamma\": 0.7,\n",
        "    \"alpha\": .15,\n",
        "    \"b\": 30,\n",
        "    \"g\": 1,\n",
        "}\n",
        "\n",
        "p_2 = {\n",
        "    \"gamma\": 1,\n",
        "    \"alpha\": .15,\n",
        "    \"b\": 50,\n",
        "    \"g\": 0,\n",
        "}\n",
        "\n",
        "p_3 = {\n",
        "    \"gamma\": 0.2,\n",
        "    \"alpha\": .05,\n",
        "    \"b\": 200,\n",
        "    \"g\": 1,\n",
        "}\n",
        "\n",
        "x = np.arange(0, STEPS)\n",
        "fig, axs = plt.subplots(1, 4, figsize=(28*.7,4*.7))\n",
        "\n",
        "## Double Descent\n",
        "# feature learning\n",
        "heuristics, = axs[0].plot(x, pred_i(p_1, x), label=\"Type 1\")\n",
        "memorization, = axs[0].plot(x, pred_i(p_2, x), label=\"Type 2\")\n",
        "slow, = axs[0].plot(x, pred_i(p_3, x), label=\"Type 3\")\n",
        "axs[0].set_xlabel(\"epochs\")\n",
        "axs[0].set_ylabel(\"Accuracy\")\n",
        "axs[0].legend()\n",
        "axs[0].set_xticks([])\n",
        "axs[0].set_title(\"Double Descent Patterns\")\n",
        "\n",
        "# accuracy\n",
        "train, = axs[2].plot(x, acc(p_1, p_2, p_3, x), label=\"train\", color=\"gray\")\n",
        "test, = axs[2].plot(x, gen(p_1, p_2, p_3, x), label=\"test\", color=\"red\")\n",
        "# axs[2].set_ylabel(\"Accuracy\")\n",
        "axs[2].set_xlabel(\"epochs\")\n",
        "axs[2].set_xticks([])\n",
        "axs[2].set_title(\"Double Descent\")\n",
        "axs[2].legend()\n",
        "\n",
        "## GROK\n",
        "p_1[\"gamma\"] = 0.\n",
        "p_3[\"gamma\"] = 1.# feature learning\n",
        "heuristics, = axs[1].plot(x, pred_i(p_1, x), label=\"Type 1\")\n",
        "memorization, = axs[1].plot(x, pred_i(p_2, x), label=\"Type 2\")\n",
        "slow, = axs[1].plot(x, pred_i(p_3, x), label=\"Type 3\")\n",
        "# axs[1].set_ylabel(\"Predictiveness\")\n",
        "# axs[1].legend(loc=\"lower left\")\n",
        "axs[1].set_xlabel(\"epochs\")\n",
        "axs[1].set_xticks([])\n",
        "axs[1].set_title(\"Grokking Patterns\")\n",
        "\n",
        "# accuracy\n",
        "train, = axs[3].plot(x, acc(p_1, p_2, p_3, x), label=\"train\", color=\"gray\")\n",
        "test, = axs[3].plot(x, gen(p_1, p_2, p_3, x), label=\"test\", color=\"red\")\n",
        "# axs[3].set_ylabel(\"Accuracy\")\n",
        "axs[3].set_xlabel(\"epochs\")\n",
        "axs[3].set_xticks([])\n",
        "axs[3].set_title(\"Grokking\")\n",
        "# axs[3].legend(loc=\"lower right\");\n",
        "\n",
        "plt.savefig(\"toy_model.pdf\")"
      ],
      "metadata": {
        "colab": {
          "base_uri": "https://localhost:8080/",
          "height": 217
        },
        "id": "qySt_UPWExOE",
        "outputId": "1adb7f18-67ac-4889-c55d-f879642bf18f",
        "cellView": "form"
      },
      "execution_count": 3,
      "outputs": [
        {
          "output_type": "display_data",
          "data": {
            "text/plain": [
              "<Figure size 1411.2x201.6 with 4 Axes>"
            ],
            "image/png": "[encoded data removed]"
          },
          "metadata": {
            "needs_background": "light"
          }
        }
      ]
    }
  ],
  "metadata": {
    "kernelspec": {
      "display_name": "Python 3.9.7 ('base')",
      "language": "python",
      "name": "python3"
    },
    "language_info": {
      "codemirror_mode": {
        "name": "ipython",
        "version": 3
      },
      "file_extension": ".py",
      "mimetype": "text/x-python",
      "name": "python",
      "nbconvert_exporter": "python",
      "pygments_lexer": "ipython3",
      "version": "3.9.7"
    },
    "orig_nbformat": 4,
    "vscode": {
      "interpreter": {
        "hash": "b4a534a895e72e8ecdf84980aac0185af73e5972272ef3602c37a620222e50d3"
      }
    },
    "colab": {
      "provenance": [],
      "collapsed_sections": [
        "P36YoOJMXvzu"
      ],
      "include_colab_link": true
    },
    "widgets": {
      "application/vnd.jupyter.widget-state+json": {
        "557f7000208b47d2a38ff03fefea063f": {
          "model_module": "@jupyter-widgets/controls",
          "model_name": "VBoxModel",
          "model_module_version": "1.5.0",
          "state": {
            "_dom_classes": [
              "widget-interact"
            ],
            "_model_module": "@jupyter-widgets/controls",
            "_model_module_version": "1.5.0",
            "_model_name": "VBoxModel",
            "_view_count": null,
            "_view_module": "@jupyter-widgets/controls",
            "_view_module_version": "1.5.0",
            "_view_name": "VBoxView",
            "box_style": "",
            "children": [
              "IPY_MODEL_4e003c6a90e348e9b65e724d54aa5792",
              "IPY_MODEL_013683b10b024465ae24281223a1bd21",
              "IPY_MODEL_4baa73f156f741f1bd7bf1dbecb354b2"
            ],
            "layout": "IPY_MODEL_2e4982232b4c4617b0ebf58cff63dabf"
          }
        },
        "4e003c6a90e348e9b65e724d54aa5792": {
          "model_module": "@jupyter-widgets/controls",
          "model_name": "FloatSliderModel",
          "model_module_version": "1.5.0",
          "state": {
            "_dom_classes": [],
            "_model_module": "@jupyter-widgets/controls",
            "_model_module_version": "1.5.0",
            "_model_name": "FloatSliderModel",
            "_view_count": null,
            "_view_module": "@jupyter-widgets/controls",
            "_view_module_version": "1.5.0",
            "_view_name": "FloatSliderView",
            "continuous_update": true,
            "description": "heuristics",
            "description_tooltip": null,
            "disabled": false,
            "layout": "IPY_MODEL_91feaef8c76d42bf8a0c332a251e15c6",
            "max": 1,
            "min": 0,
            "orientation": "horizontal",
            "readout": true,
            "readout_format": ".2f",
            "step": 0.1,
            "style": "IPY_MODEL_819abcd931034b3984b561896db856e0",
            "value": 0.1
          }
        },
        "013683b10b024465ae24281223a1bd21": {
          "model_module": "@jupyter-widgets/controls",
          "model_name": "FloatSliderModel",
          "model_module_version": "1.5.0",
          "state": {
            "_dom_classes": [],
            "_model_module": "@jupyter-widgets/controls",
            "_model_module_version": "1.5.0",
            "_model_name": "FloatSliderModel",
            "_view_count": null,
            "_view_module": "@jupyter-widgets/controls",
            "_view_module_version": "1.5.0",
            "_view_name": "FloatSliderView",
            "continuous_update": true,
            "description": "slow_good",
            "description_tooltip": null,
            "disabled": false,
            "layout": "IPY_MODEL_73aecb5f13764e9eb8a1aeff92702bcc",
            "max": 1,
            "min": 0,
            "orientation": "horizontal",
            "readout": true,
            "readout_format": ".2f",
            "step": 0.1,
            "style": "IPY_MODEL_b843e03242f44fdea64132b522135c23",
            "value": 1
          }
        },
        "4baa73f156f741f1bd7bf1dbecb354b2": {
          "model_module": "@jupyter-widgets/output",
          "model_name": "OutputModel",
          "model_module_version": "1.0.0",
          "state": {
            "_dom_classes": [],
            "_model_module": "@jupyter-widgets/output",
            "_model_module_version": "1.0.0",
            "_model_name": "OutputModel",
            "_view_count": null,
            "_view_module": "@jupyter-widgets/output",
            "_view_module_version": "1.0.0",
            "_view_name": "OutputView",
            "layout": "IPY_MODEL_28b3ff546a04431893706969226d86ab",
            "msg_id": "",
            "outputs": [
              {
                "output_type": "display_data",
                "data": {
                  "text/plain": "<Figure size 1440x576 with 2 Axes>",
                  "image/png": "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\n"
                },
                "metadata": {
                  "needs_background": "light"
                }
              }
            ]
          }
        },
        "2e4982232b4c4617b0ebf58cff63dabf": {
          "model_module": "@jupyter-widgets/base",
          "model_name": "LayoutModel",
          "model_module_version": "1.2.0",
          "state": {
            "_model_module": "@jupyter-widgets/base",
            "_model_module_version": "1.2.0",
            "_model_name": "LayoutModel",
            "_view_count": null,
            "_view_module": "@jupyter-widgets/base",
            "_view_module_version": "1.2.0",
            "_view_name": "LayoutView",
            "align_content": null,
            "align_items": null,
            "align_self": null,
            "border": null,
            "bottom": null,
            "display": null,
            "flex": null,
            "flex_flow": null,
            "grid_area": null,
            "grid_auto_columns": null,
            "grid_auto_flow": null,
            "grid_auto_rows": null,
            "grid_column": null,
            "grid_gap": null,
            "grid_row": null,
            "grid_template_areas": null,
            "grid_template_columns": null,
            "grid_template_rows": null,
            "height": null,
            "justify_content": null,
            "justify_items": null,
            "left": null,
            "margin": null,
            "max_height": null,
            "max_width": null,
            "min_height": null,
            "min_width": null,
            "object_fit": null,
            "object_position": null,
            "order": null,
            "overflow": null,
            "overflow_x": null,
            "overflow_y": null,
            "padding": null,
            "right": null,
            "top": null,
            "visibility": null,
            "width": null
          }
        },
        "91feaef8c76d42bf8a0c332a251e15c6": {
          "model_module": "@jupyter-widgets/base",
          "model_name": "LayoutModel",
          "model_module_version": "1.2.0",
          "state": {
            "_model_module": "@jupyter-widgets/base",
            "_model_module_version": "1.2.0",
            "_model_name": "LayoutModel",
            "_view_count": null,
            "_view_module": "@jupyter-widgets/base",
            "_view_module_version": "1.2.0",
            "_view_name": "LayoutView",
            "align_content": null,
            "align_items": null,
            "align_self": null,
            "border": null,
            "bottom": null,
            "display": null,
            "flex": null,
            "flex_flow": null,
            "grid_area": null,
            "grid_auto_columns": null,
            "grid_auto_flow": null,
            "grid_auto_rows": null,
            "grid_column": null,
            "grid_gap": null,
            "grid_row": null,
            "grid_template_areas": null,
            "grid_template_columns": null,
            "grid_template_rows": null,
            "height": null,
            "justify_content": null,
            "justify_items": null,
            "left": null,
            "margin": null,
            "max_height": null,
            "max_width": null,
            "min_height": null,
            "min_width": null,
            "object_fit": null,
            "object_position": null,
            "order": null,
            "overflow": null,
            "overflow_x": null,
            "overflow_y": null,
            "padding": null,
            "right": null,
            "top": null,
            "visibility": null,
            "width": null
          }
        },
        "819abcd931034b3984b561896db856e0": {
          "model_module": "@jupyter-widgets/controls",
          "model_name": "SliderStyleModel",
          "model_module_version": "1.5.0",
          "state": {
            "_model_module": "@jupyter-widgets/controls",
            "_model_module_version": "1.5.0",
            "_model_name": "SliderStyleModel",
            "_view_count": null,
            "_view_module": "@jupyter-widgets/base",
            "_view_module_version": "1.2.0",
            "_view_name": "StyleView",
            "description_width": "",
            "handle_color": null
          }
        },
        "73aecb5f13764e9eb8a1aeff92702bcc": {
          "model_module": "@jupyter-widgets/base",
          "model_name": "LayoutModel",
          "model_module_version": "1.2.0",
          "state": {
            "_model_module": "@jupyter-widgets/base",
            "_model_module_version": "1.2.0",
            "_model_name": "LayoutModel",
            "_view_count": null,
            "_view_module": "@jupyter-widgets/base",
            "_view_module_version": "1.2.0",
            "_view_name": "LayoutView",
            "align_content": null,
            "align_items": null,
            "align_self": null,
            "border": null,
            "bottom": null,
            "display": null,
            "flex": null,
            "flex_flow": null,
            "grid_area": null,
            "grid_auto_columns": null,
            "grid_auto_flow": null,
            "grid_auto_rows": null,
            "grid_column": null,
            "grid_gap": null,
            "grid_row": null,
            "grid_template_areas": null,
            "grid_template_columns": null,
            "grid_template_rows": null,
            "height": null,
            "justify_content": null,
            "justify_items": null,
            "left": null,
            "margin": null,
            "max_height": null,
            "max_width": null,
            "min_height": null,
            "min_width": null,
            "object_fit": null,
            "object_position": null,
            "order": null,
            "overflow": null,
            "overflow_x": null,
            "overflow_y": null,
            "padding": null,
            "right": null,
            "top": null,
            "visibility": null,
            "width": null
          }
        },
        "b843e03242f44fdea64132b522135c23": {
          "model_module": "@jupyter-widgets/controls",
          "model_name": "SliderStyleModel",
          "model_module_version": "1.5.0",
          "state": {
            "_model_module": "@jupyter-widgets/controls",
            "_model_module_version": "1.5.0",
            "_model_name": "SliderStyleModel",
            "_view_count": null,
            "_view_module": "@jupyter-widgets/base",
            "_view_module_version": "1.2.0",
            "_view_name": "StyleView",
            "description_width": "",
            "handle_color": null
          }
        },
        "28b3ff546a04431893706969226d86ab": {
          "model_module": "@jupyter-widgets/base",
          "model_name": "LayoutModel",
          "model_module_version": "1.2.0",
          "state": {
            "_model_module": "@jupyter-widgets/base",
            "_model_module_version": "1.2.0",
            "_model_name": "LayoutModel",
            "_view_count": null,
            "_view_module": "@jupyter-widgets/base",
            "_view_module_version": "1.2.0",
            "_view_name": "LayoutView",
            "align_content": null,
            "align_items": null,
            "align_self": null,
            "border": null,
            "bottom": null,
            "display": null,
            "flex": null,
            "flex_flow": null,
            "grid_area": null,
            "grid_auto_columns": null,
            "grid_auto_flow": null,
            "grid_auto_rows": null,
            "grid_column": null,
            "grid_gap": null,
            "grid_row": null,
            "grid_template_areas": null,
            "grid_template_columns": null,
            "grid_template_rows": null,
            "height": null,
            "justify_content": null,
            "justify_items": null,
            "left": null,
            "margin": null,
            "max_height": null,
            "max_width": null,
            "min_height": null,
            "min_width": null,
            "object_fit": null,
            "object_position": null,
            "order": null,
            "overflow": null,
            "overflow_x": null,
            "overflow_y": null,
            "padding": null,
            "right": null,
            "top": null,
            "visibility": null,
            "width": null
          }
        }
      }
    }
  },
  "nbformat": 4,
  "nbformat_minor": 0
}